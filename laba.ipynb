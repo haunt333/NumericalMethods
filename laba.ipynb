{
 "cells": [
  {
   "cell_type": "markdown",
   "metadata": {},
   "source": [
    "<h2> Лабораторная раборта №3. </h2>\n",
    "<h3> Вариант 24. Хлебко Никита (БПМ 174). </h3>\n",
    "\n",
    "<h3> №1.1.24 </h3> <br>\n",
    "Дан ряд $\\sum_{n=0}^{\\infty} a_n$.Найти сумму ряда аналитически. Вычислить значения частичных сумм ряда $S_N = \\sum_{n=0}^{N} a_n$ и найти величину погрешности при значениях $N = 10, 10^2, 10^3, 10^4, 10^5$. <br>\n",
    "<h4> Решение аналитическое: </h4> <br>\n",
    "$b_n = \\frac{1}{n^2 + 9n + 20} = \\frac{1}{n+4} - \\frac{1}{n+5} $ <br><br>\n",
    "$\\sum_{n=0}^\\infty b_n = \\sum_{n=0}^\\infty \\frac{1}{n+4} - \\frac{1}{n+5} = \\frac{1}{4}$ <br><br>\n",
    "$ S = \\sum_{n=0}^{\\infty} a_n = \\frac{1}{4} * 96 = 24$\n",
    "\n"
   ]
  },
  {
   "cell_type": "code",
   "execution_count": 155,
   "metadata": {},
   "outputs": [],
   "source": [
    "from sympy import *\n",
    "import matplotlib.pyplot as plt\n",
    "import warnings\n",
    "import itertools\n",
    "warnings.filterwarnings('ignore')"
   ]
  },
  {
   "cell_type": "code",
   "execution_count": 156,
   "metadata": {},
   "outputs": [],
   "source": [
    "def get_sum(N):\n",
    "    sum = 0.0\n",
    "    for n in range (int(N+1)):\n",
    "        sum+= 96/(n*n + 9*n + 20)\n",
    "    return sum\n",
    "def d(N):\n",
    "    return abs(24 - get_sum(N))"
   ]
  },
  {
   "cell_type": "code",
   "execution_count": 157,
   "metadata": {},
   "outputs": [
    {
     "name": "stdout",
     "output_type": "stream",
     "text": [
      "S(10) = 17.600000 \t d = 6.400000 \t M = 1\n",
      "S(100) = 23.085714 \t d = 0.914286 \t M = 2\n",
      "S(1000) = 23.904478 \t d = 0.095522 \t M = 3\n",
      "S(10000) = 23.990405 \t d = 0.009595 \t M = 4\n",
      "S(100000) = 23.999040 \t d = 0.000960 \t M = 5\n"
     ]
    }
   ],
   "source": [
    "i = 0\n",
    "for N in [int(1e1), int(1e2), int(1e3), int(1e4), int(1e5)]:\n",
    "    i+=1\n",
    "    print(\"S({:d}) = {:f} \\t d = {:f} \\t M = {:d}\".format(N, get_sum(N), d(N), i))"
   ]
  },
  {
   "cell_type": "code",
   "execution_count": 158,
   "metadata": {},
   "outputs": [
    {
     "data": {
      "image/png": "[encoded data removed]",
      "text/plain": [
       "<Figure size 432x288 with 1 Axes>"
      ]
     },
     "metadata": {
      "needs_background": "light"
     },
     "output_type": "display_data"
    }
   ],
   "source": [
    "mx = [1, 2, 3, 4, 5]\n",
    "xm = range(len(mx))\n",
    "ax = plt.gca()\n",
    "ax.bar(xm, mx, align='edge')\n",
    "ax.set_xticks(xm)\n",
    "ax.set_xticklabels(('10', '100', '1000', '10000', '100000'))\n",
    "plt.show()"
   ]
  },
  {
   "cell_type": "markdown",
   "metadata": {},
   "source": [
    "Легко заметить, что увеличение количества членов ряда увеличивает количество верных цифр на 1"
   ]
  },
  {
   "cell_type": "markdown",
   "metadata": {},
   "source": [
    "<h3> №1.8 </h3> <br>\n",
    "Составить программу, моделирующую вычисления на ЭВМ с ограниченной разрядностью $m$. Решить $задачу$ $1.1$ для случая $N =10000$, <br>используя эту программу. Составить график зависимости\n",
    "погрешности от количества разрядов $m=4,5,…,8$."
   ]
  },
  {
   "cell_type": "code",
   "execution_count": 159,
   "metadata": {},
   "outputs": [],
   "source": [
    "def copy_get_sum(N, m):\n",
    "    sum = 0.0\n",
    "    for n in range (int(N+1)):\n",
    "        sum+= round(96/(n*n + 9*n + 20), m)\n",
    "    return round(sum, m)\n",
    "def copy_d(N, m):\n",
    "    return round(abs(24 - copy_get_sum(N, m)), m)"
   ]
  },
  {
   "cell_type": "code",
   "execution_count": 160,
   "metadata": {},
   "outputs": [
    {
     "data": {
      "image/png": "[encoded data removed]",
      "text/plain": [
       "<Figure size 432x288 with 1 Axes>"
      ]
     },
     "metadata": {
      "needs_background": "light"
     },
     "output_type": "display_data"
    }
   ],
   "source": [
    "more_d = []\n",
    "N = 10000\n",
    "m = [4, 5, 6, 7, 8]\n",
    "for M in m:\n",
    "    more_d.append(copy_d(N, M))\n",
    "plt.plot(m, more_d)\n",
    "plt.xlabel(\"количество разрядов\")\n",
    "plt.ylabel(\"погрешность\")\n",
    "plt.show()"
   ]
  },
  {
   "cell_type": "markdown",
   "metadata": {},
   "source": [
    "<h3> №1.56 </h3> <br>\n",
    "Дано квадратное уравнение $x^2 + bx + c = 0$. <br> Предполагается, что один из коэффициентов уравнения (в индивидуальном варианте помечен *) получен в результате округления. <br>Произвести теоретическую\n",
    "оценку погрешностей корней в зависимости от погрешности коэффициента. <br> Вычислить корни уравнения при\n",
    "нескольких различных значениях коэффициента в пределах заданной точности. Сравнить полученные\n",
    "результаты. <br> <h4> Решение: </h4> <br>\n",
    "Рассмотрим погрешности $0.00000007$ и $0.000002$, коэффициенты $b = -3.29$, $c^* = 2.707$. <br><br> Теоретическую погрешность определим как $|\\frac{dx(\\alpha)}{d\\alpha}|$ * $\\delta\\alpha$ <br>\n",
    "Корни уравнения находятся по формуле $x_{1, 2} = \\frac{-b\\pm\\sqrt{(b^2 - 4ac)}}{2a}$. Найдём производную по $c$.\n",
    "Получаем $x_{1, 2}' = \\pm\\frac{1}{\\sqrt{b^2 - 4ac}}$. <br><br>\n",
    "Тогда формула погрешности имеет вид: $\\delta x = |{\\pm\\frac{1}{\\sqrt{b^2 - 4ac}}}| * \\delta\\alpha$\n"
   ]
  },
  {
   "cell_type": "code",
   "execution_count": 161,
   "metadata": {},
   "outputs": [],
   "source": [
    "def calc_root_pos(a, b, c, alpha):\n",
    "    return ((-b) + sqrt(b*b - 4*a*(c+alpha))) / (2*a)\n",
    "def calc_root_neg(a, b, c, alpha):\n",
    "    return ((-b) - sqrt(b*b - 4*a*(c+alpha))) / (2*a)\n",
    "def cal_error_theor(a, b, c, alpha):\n",
    "    return sqrt(b*b - 4*a*c)"
   ]
  },
  {
   "cell_type": "code",
   "execution_count": 162,
   "metadata": {},
   "outputs": [
    {
     "name": "stdout",
     "output_type": "stream",
     "text": [
      "x1 = 1.64999999999999 \n",
      "x2 = 1.64000000000001\n",
      "Погрешность, полученная практическим образом: 0.00000700490687388644 \n",
      "Погрешность, полученная теоретическим образом: 0.00000700000000000816\n",
      "Погрешность, полученная практическим образом: 0.00000700490687388644 \n",
      "Погрешность, полученная теоретическим образом: 0.00000700000000000816 \n",
      "\n",
      "x1 = 1.64999999999999 \n",
      "x2 = 1.64000000000001\n",
      "Погрешность, полученная практическим образом: 0.000204168476670263 \n",
      "Погрешность, полученная теоретическим образом: 0.000200000000000233\n",
      "Погрешность, полученная практическим образом: 0.000204168476670263 \n",
      "Погрешность, полученная теоретическим образом: 0.000200000000000233 \n",
      "\n"
     ]
    }
   ],
   "source": [
    "a = [0.00000007, 0.000002]\n",
    "b = -3.29\n",
    "c = 2.706\n",
    "for A in a:\n",
    "    print(\"x1 = {} \\nx2 = {}\".format(calc_root_pos(1, -3.29, 2.706, 0), calc_root_neg(1, -3.29, 2.706, 0)))\n",
    "    print(\"Погрешность, полученная практическим образом: {} \\nПогрешность, полученная теоретическим образом: {}\".format((-calc_root_pos(1, -3.29, 2.706, A) + calc_root_pos(1, -3.29, 2.706, 0)), 1 / abs(cal_error_theor(1, b, c, 0)) * A))\n",
    "    print(\"Погрешность, полученная практическим образом: {} \\nПогрешность, полученная теоретическим образом: {} \\n\".format((calc_root_neg(1, -3.29, 2.706, A) - calc_root_neg(1, -3.29, 2.706, 0)), 1 / abs(cal_error_theor(1, b, c, 0)) * A))\n"
   ]
  },
  {
   "cell_type": "markdown",
   "metadata": {},
   "source": [
    "<h3> №1.6 </h3> <br>\n",
    "Для пакета MATHCAD найти значения машинного нуля, машинной бесконечности, машинного\n",
    "эпсилон. <br> <h4> Решение: </h4> <br>\n",
    "Для решения этого задания будет использован matlab <br>\n",
    "\n"
   ]
  },
  {
   "cell_type": "code",
   "execution_count": 163,
   "metadata": {},
   "outputs": [
    {
     "data": {
      "text/html": [
       "<img src=\"https://downloader.disk.yandex.ru/preview/d46e8035a797545328ad1fefe817323cb03fdabce10d20118aad0d605a3ad0ce/5e79afea/J5J067E3bV2X-mZLdSPNw64VnxtBxMwfTRrAM7jr7zvZwoFMU7mtT9hY2BUYWj2y_HYcODNWoV_cP46CSjdM0g==?uid=0&filename=Dtn7CPCW4AAztGr.jpg&disposition=inline&hash=&limit=0&content_type=image%2Fjpeg&tknv=v2&owner_uid=682686756&size=2048x2048\"/>"
      ],
      "text/plain": [
       "<IPython.core.display.Image object>"
      ]
     },
     "execution_count": 163,
     "metadata": {},
     "output_type": "execute_result"
    }
   ],
   "source": [
    "from IPython.display import Image\n",
    "from IPython.core.display import HTML \n",
    "Image(url= \"https://downloader.disk.yandex.ru/preview/d46e8035a797545328ad1fefe817323cb03fdabce10d20118aad0d605a3ad0ce/5e79afea/J5J067E3bV2X-mZLdSPNw64VnxtBxMwfTRrAM7jr7zvZwoFMU7mtT9hY2BUYWj2y_HYcODNWoV_cP46CSjdM0g==?uid=0&filename=Dtn7CPCW4AAztGr.jpg&disposition=inline&hash=&limit=0&content_type=image%2Fjpeg&tknv=v2&owner_uid=682686756&size=2048x2048\")"
   ]
  },
  {
   "cell_type": "code",
   "execution_count": 164,
   "metadata": {},
   "outputs": [
    {
     "data": {
      "text/html": [
       "<img src=\"https://downloader.disk.yandex.ru/preview/65bf1f9c19799ef7d5f6e63231b804565a2da718bd8700f8fdb9aecf0aa75fd4/5e79b291/yA7tScQUZtfSo3RIkIZk-38ZlnY0H5Gwt6ZCx4yzXRCOwwuGnT7iO7RjyItsdlYL0FoZdXoLK3pROQz_t01zrg==?uid=0&filename=2.jpg&disposition=inline&hash=&limit=0&content_type=image%2Fjpeg&tknv=v2&owner_uid=682686756&size=2048x2048\"/>"
      ],
      "text/plain": [
       "<IPython.core.display.Image object>"
      ]
     },
     "execution_count": 164,
     "metadata": {},
     "output_type": "execute_result"
    }
   ],
   "source": [
    "Image(url= \"https://downloader.disk.yandex.ru/preview/65bf1f9c19799ef7d5f6e63231b804565a2da718bd8700f8fdb9aecf0aa75fd4/5e79b291/yA7tScQUZtfSo3RIkIZk-38ZlnY0H5Gwt6ZCx4yzXRCOwwuGnT7iO7RjyItsdlYL0FoZdXoLK3pROQz_t01zrg==?uid=0&filename=2.jpg&disposition=inline&hash=&limit=0&content_type=image%2Fjpeg&tknv=v2&owner_uid=682686756&size=2048x2048\")"
   ]
  },
  {
   "cell_type": "code",
   "execution_count": 165,
   "metadata": {},
   "outputs": [
    {
     "data": {
      "text/html": [
       "<img src=\"https://downloader.disk.yandex.ru/preview/5c0ac7d7fb66ee80242f69e3551382a3801d02aa2a904c0db064761253ad0759/5e79b31a/UP1mFLO92p1rxOOQrkKJ-_KdGUE1rxJtt8Uz-8acQPifEOJQol0Bkfzpu_8dsZ0FOkjHJEeOEWS4wxfcUcs60Q==?uid=0&filename=3.jpg&disposition=inline&hash=&limit=0&content_type=image%2Fjpeg&tknv=v2&owner_uid=682686756&size=2048x2048\"/>"
      ],
      "text/plain": [
       "<IPython.core.display.Image object>"
      ]
     },
     "execution_count": 165,
     "metadata": {},
     "output_type": "execute_result"
    }
   ],
   "source": [
    "Image(url= \"https://downloader.disk.yandex.ru/preview/5c0ac7d7fb66ee80242f69e3551382a3801d02aa2a904c0db064761253ad0759/5e79b31a/UP1mFLO92p1rxOOQrkKJ-_KdGUE1rxJtt8Uz-8acQPifEOJQol0Bkfzpu_8dsZ0FOkjHJEeOEWS4wxfcUcs60Q==?uid=0&filename=3.jpg&disposition=inline&hash=&limit=0&content_type=image%2Fjpeg&tknv=v2&owner_uid=682686756&size=2048x2048\")"
   ]
  },
  {
   "cell_type": "markdown",
   "metadata": {},
   "source": [
    "            ^\n",
    "            |\n",
    "            |\n",
    "       Машинный ноль"
   ]
  },
  {
   "cell_type": "markdown",
   "metadata": {},
   "source": [
    "<h3> №1.7 </h3> <br>\n",
    "Вычислить значения машинного нуля, машинной бесконечности, машинного эпсилон в режимах одинарной и двойной точности на алгоритмическом языке. Сравнить результаты с результатами задачи $1.6$. "
   ]
  },
  {
   "cell_type": "code",
   "execution_count": 166,
   "metadata": {},
   "outputs": [],
   "source": [
    "import numpy as np\n",
    "\n",
    "def machine_inf(p):\n",
    "    n = 0\n",
    "    infinity = 1\n",
    "    while infinity != np.inf:\n",
    "        try:\n",
    "            infinity = p(2.0 * infinity)\n",
    "        except Exception:\n",
    "            return 2.0**(n - 1)\n",
    "        n = n + 1\n",
    "    return 2.0**(n - 1)\n",
    "\n",
    "def machine_eps(p):\n",
    "    n = 0\n",
    "    eps = p(1)\n",
    "    while p(1 + eps) != 1:\n",
    "        eps = eps / 2\n",
    "        n = n + 1\n",
    "    return 2**(1-n)\n",
    "\n",
    "def machine_zero(p):\n",
    "    n = 0\n",
    "    zero = p(1)\n",
    "    while p(zero) != 0:\n",
    "        zero = zero / 2\n",
    "        n = n + 1\n",
    "    return 2.0**(1-n)"
   ]
  },
  {
   "cell_type": "code",
   "execution_count": 167,
   "metadata": {},
   "outputs": [
    {
     "name": "stdout",
     "output_type": "stream",
     "text": [
      "Одинарная точность: \n",
      "Машинная бесконечность 1.7014118346046923e+38 \n",
      "Машинный эпсилон 1.1920928955078125e-07\n",
      "Машинный ноль 1.401298464324817e-45\n",
      "Одинарная точность: \n",
      "Машинная бесконечность 8.98846567431158e+307 \n",
      "Машинный эпсилон 2.220446049250313e-16\n",
      "Машинный ноль 5e-324\n"
     ]
    }
   ],
   "source": [
    "p = np.float32\n",
    "print(\"Одинарная точность: \\nМашинная бесконечность {} \\nМашинный эпсилон {}\\nМашинный ноль {}\".format(machine_inf(p), machine_eps(p), machine_zero(p)))\n",
    "p = np.float64\n",
    "print(\"Одинарная точность: \\nМашинная бесконечность {} \\nМашинный эпсилон {}\\nМашинный ноль {}\".format(machine_inf(p), machine_eps(p), machine_zero(p)))"
   ]
  },
  {
   "cell_type": "markdown",
   "metadata": {},
   "source": [
    "Очевидно, что результаты работы программ совпадают для двойной точности, кроме машинного эпсилон."
   ]
  },
  {
   "cell_type": "markdown",
   "metadata": {},
   "source": [
    "<h3> №1.10.1 </h3> <br>\n",
    "Три вектора $a_1$, $a_2$, $a_3$ заданы своими координатами в базисе $i$, $j$ и $k$. Что можно сказать о\n",
    "компланарности этих векторов, если: <br>\n",
    "1) Координаты векторов заданы точно <br>\n",
    "2) Координаты векторов заданы приближённо с относительной погрешностью a)$\\delta = \\alpha$% б)$\\delta = \\beta$% <br><br>\n",
    "По условию задачи $a_1$ = $(10, 15, 1)$, $a_2$ = $(0.7, 5.7, -9)$ и $a_3$ = $(11, 16, 2)$. $\\alpha = 0.05$, а $\\beta = 0.1$ <br> <h4> Решение: </h4> <br> \n",
    "Сразу же запишем матрицу из наших векторов $A =  \\begin{pmatrix}\n",
    "                                                10& 15& 1\\\\\n",
    "                                                0.7& 5.7& -9\\\\\n",
    "                                                11& 16& 2\n",
    "                                            \\end{pmatrix}$"
   ]
  },
  {
   "cell_type": "code",
   "execution_count": 172,
   "metadata": {},
   "outputs": [
    {
     "name": "stdout",
     "output_type": "stream",
     "text": [
      "-3.499999999999862\n"
     ]
    }
   ],
   "source": [
    "Matrix = np.array([[10, 15, 1], [0.7, 5.7, -9], [11, 16, 2]])\n",
    "det_without_error = np.linalg.det(Matrix)\n",
    "print(det_without_error)"
   ]
  },
  {
   "cell_type": "markdown",
   "metadata": {},
   "source": [
    "Определитель не ноль, это означает, что смешанное произведение не равно нули, следовательно векторы не компланарны.\n",
    "По приложению $1C$ запишем функцию:"
   ]
  },
  {
   "cell_type": "code",
   "execution_count": 175,
   "metadata": {},
   "outputs": [],
   "source": [
    "def get_dets(Matrix, error):\n",
    "    dets = []\n",
    "    dimension = Matrix.shape[0]*Matrix.shape[1]\n",
    "    bin_matrix = itertools.product([0, 1], repeat = dimension)\n",
    "    for current in bin_matrix:\n",
    "        current_matrix = Matrix.flatten()\n",
    "        for i in range (dimension):\n",
    "            if current[i] == 0:\n",
    "                current_matrix[i] *= (1 - error)\n",
    "            else:\n",
    "                current_matrix[i] *= (1 + error)\n",
    "        current_matrix = current_matrix.reshape((Matrix.shape[0], Matrix.shape[1]))\n",
    "        dets.append(np.linalg.det(current_matrix))\n",
    "    return dets\n",
    "\n",
    "def is_comp(min_, max_):\n",
    "    if max_*min_ < 0:\n",
    "        print(\"Неопределенность.\")\n",
    "    else:\n",
    "        print(\"Нет нуля в [m, M] -> не компланарны\")\n",
    "        \n",
    "def is_comp_(det):\n",
    "    if det == 0:\n",
    "        print(\"Векторы компланарны\")\n",
    "    else:\n",
    "        print(\"Векторы некомпланарны\")"
   ]
  },
  {
   "cell_type": "code",
   "execution_count": 176,
   "metadata": {},
   "outputs": [
    {
     "name": "stdout",
     "output_type": "stream",
     "text": [
      "Векторы некомпланарны\n",
      "Векторы некомпланарны\n",
      "Неопределенность.\n"
     ]
    }
   ],
   "source": [
    "dets = get_dets(Matrix, 0.05)\n",
    "min_, max_ = np.min(dets), np.max(dets)\n",
    "is_comp_(min_)\n",
    "is_comp_(max_)\n",
    "is_comp(min_, max_)"
   ]
  },
  {
   "cell_type": "markdown",
   "metadata": {},
   "source": [
    "В случае неопределенности векторы могут быть компланарными"
   ]
  }
 ],
 "metadata": {
  "kernelspec": {
   "display_name": "Python 3",
   "language": "python",
   "name": "python3"
  },
  "language_info": {
   "codemirror_mode": {
    "name": "ipython",
    "version": 3
   },
   "file_extension": ".py",
   "mimetype": "text/x-python",
   "name": "python",
   "nbconvert_exporter": "python",
   "pygments_lexer": "ipython3",
   "version": "3.7.6"
  }
 },
 "nbformat": 4,
 "nbformat_minor": 4
}
